{
  "nbformat": 4,
  "nbformat_minor": 0,
  "metadata": {
    "colab": {
      "name": "Linear_Regression.ipynb",
      "provenance": [],
      "collapsed_sections": []
    },
    "kernelspec": {
      "name": "python3",
      "display_name": "Python 3"
    },
    "language_info": {
      "name": "python"
    }
  },
  "cells": [
    {
      "cell_type": "markdown",
      "metadata": {
        "id": "PZyyndy8EFQI"
      },
      "source": [
        "***Importing Libraries***"
      ]
    },
    {
      "cell_type": "code",
      "metadata": {
        "id": "G0CVreOza_VY"
      },
      "source": [
        "import numpy as np\n",
        "import pandas as pd\n",
        "import matplotlib.pyplot as plt\n",
        "from sklearn.datasets import make_regression"
      ],
      "execution_count": 1,
      "outputs": []
    },
    {
      "cell_type": "markdown",
      "metadata": {
        "id": "Nsf-e2sGEVHC"
      },
      "source": [
        "***Loading Data***"
      ]
    },
    {
      "cell_type": "code",
      "metadata": {
        "id": "x0wIG1zdkjG3"
      },
      "source": [
        "X,Y = make_regression(n_samples=100, n_features=1, n_informative=1, n_targets=1,noise=20,random_state=13)"
      ],
      "execution_count": 2,
      "outputs": []
    },
    {
      "cell_type": "markdown",
      "metadata": {
        "id": "HingAM-aEr8Q"
      },
      "source": [
        "***Visualization***"
      ]
    },
    {
      "cell_type": "code",
      "metadata": {
        "colab": {
          "base_uri": "https://localhost:8080/",
          "height": 265
        },
        "id": "nMeJCgHe0rdq",
        "outputId": "ebddaf72-71f0-4436-b410-328761b1b941"
      },
      "source": [
        "plt.scatter(X, Y)\n",
        "plt.show()"
      ],
      "execution_count": 3,
      "outputs": [
        {
          "output_type": "display_data",
          "data": {
            "image/png": "[encoded data removed]",
            "text/plain": [
              "<Figure size 432x288 with 1 Axes>"
            ]
          },
          "metadata": {
            "needs_background": "light"
          }
        }
      ]
    },
    {
      "cell_type": "markdown",
      "metadata": {
        "id": "cgzliczSxnOY"
      },
      "source": [
        "***Splitting Test Train Data***"
      ]
    },
    {
      "cell_type": "code",
      "metadata": {
        "id": "rkNLdz771nXX"
      },
      "source": [
        "from sklearn.model_selection import train_test_split\n",
        "X_train,X_test,Y_train,Y_test = train_test_split(X, Y, test_size = 0.2)"
      ],
      "execution_count": 4,
      "outputs": []
    },
    {
      "cell_type": "markdown",
      "metadata": {
        "id": "JBZ3-QcGE5ox"
      },
      "source": [
        "***Creating Model Class***"
      ]
    },
    {
      "cell_type": "code",
      "metadata": {
        "id": "HD9ywvjp09CY"
      },
      "source": [
        "class GDLR:\n",
        "    def __init__(self, alpha, epochs):\n",
        "        self.m = 100\n",
        "        self.b = 20\n",
        "        self.epoches = epochs\n",
        "        self.alpha = alpha\n",
        "\n",
        "    def fit(self,X_train,Y_train):\n",
        "        for i in range(self.epoches):\n",
        "            loss_slope_m = -2 * np.sum((Y_train - self.m*X_train.ravel() - self.b)* X_train.ravel())\n",
        "            loss_slope_b = -2 * np.sum(Y_train - self.m*X_train.ravel() - self.b)\n",
        "            \n",
        "            self.b = self.b - (self.alpha * loss_slope_b)\n",
        "            self.m = self.m - (self.alpha * loss_slope_m)\n",
        "        return self.m, self.b\n",
        "        \n",
        "    def predict(self,X_test):\n",
        "        return X_test*self.m + self.b"
      ],
      "execution_count": 5,
      "outputs": []
    },
    {
      "cell_type": "markdown",
      "source": [
        "***Training the model***"
      ],
      "metadata": {
        "id": "QI4u-2cYu7nH"
      }
    },
    {
      "cell_type": "code",
      "metadata": {
        "colab": {
          "base_uri": "https://localhost:8080/"
        },
        "id": "TjYofhiC4qnt",
        "outputId": "d4b5b1e0-e903-4ca9-b617-ae5050799026"
      },
      "source": [
        "model = GDLR(0.002, 100)\n",
        "model.fit(X_train, Y_train)"
      ],
      "execution_count": 6,
      "outputs": [
        {
          "output_type": "execute_result",
          "data": {
            "text/plain": [
              "(26.80068782760811, -2.7827117701662627)"
            ]
          },
          "metadata": {},
          "execution_count": 6
        }
      ]
    },
    {
      "cell_type": "markdown",
      "source": [
        "***Visualizing the final result***"
      ],
      "metadata": {
        "id": "ZYvsZl7nvE_2"
      }
    },
    {
      "cell_type": "code",
      "metadata": {
        "colab": {
          "base_uri": "https://localhost:8080/",
          "height": 265
        },
        "id": "68VVzdlE4saf",
        "outputId": "48fd026d-be50-4902-c899-52dd49a5e49e"
      },
      "source": [
        "plt.scatter(X, Y)\n",
        "plt.plot(X_train, model.predict(X_train), 'r-')\n",
        "plt.show()"
      ],
      "execution_count": 7,
      "outputs": [
        {
          "output_type": "display_data",
          "data": {
            "image/png": "[encoded data removed]",
            "text/plain": [
              "<Figure size 432x288 with 1 Axes>"
            ]
          },
          "metadata": {
            "needs_background": "light"
          }
        }
      ]
    }
  ]
}