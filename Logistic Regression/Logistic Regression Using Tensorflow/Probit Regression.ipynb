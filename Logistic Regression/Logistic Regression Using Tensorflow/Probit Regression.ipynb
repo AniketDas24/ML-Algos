{
 "cells": [
  {
   "cell_type": "code",
   "execution_count": 3,
   "metadata": {},
   "outputs": [],
   "source": [
    "import tensorflow as tf\n",
    "import numpy as np\n",
    "import os\n",
    "import cv2\n",
    "import matplotlib.pyplot as plt \n",
    "import tensorflow_probability as tfp\n",
    "import pandas as pd"
   ]
  },
  {
   "cell_type": "code",
   "execution_count": 4,
   "metadata": {},
   "outputs": [],
   "source": [
    "train_path = './Dataset/train'\n",
    "test_path = './Dataset/test'\n",
    "test_imgs = os.listdir(test_path)"
   ]
  },
  {
   "cell_type": "code",
   "execution_count": 5,
   "metadata": {},
   "outputs": [],
   "source": [
    "def make_train_data(train_path):\n",
    "    \n",
    "    x_train = []\n",
    "    y_train = []\n",
    "    \n",
    "    train_dirs = os.listdir(train_path)\n",
    "    \n",
    "    temp = 0\n",
    "    for dirs in train_dirs:\n",
    "        cat_imgs = []\n",
    "        img_path = train_path +'/' + dirs +'/'\n",
    "        img_list = os.listdir(img_path)\n",
    "        for img_name in img_list :\n",
    "            img = cv2.imread(img_path +img_name, 0 )\n",
    "            img = cv2.resize(img, (32, 32))\n",
    "            cat_imgs.append(img)\n",
    "            y_train.append([int(dirs[-1]) -1])\n",
    "        x_train.append(cat_imgs)\n",
    "        \n",
    "    x_train = np.concatenate((x_train[0], x_train[1], x_train[2], x_train[3]))\n",
    "    # y_train = np.concatenate((y_train[0], y_train[1], y_train[2], y_train[3]))\n",
    "    \n",
    "    x_train = np.reshape(x_train, (x_train.shape[0],x_train.shape[1],x_train.shape[1], 1))\n",
    "    y_train = tf.keras.utils.to_categorical(y_train, num_classes= 4)\n",
    "    \n",
    "    return x_train/255.0, np.array(y_train)\n"
   ]
  },
  {
   "cell_type": "code",
   "execution_count": 6,
   "metadata": {},
   "outputs": [],
   "source": [
    "x_train, y_train = make_train_data(train_path)"
   ]
  },
  {
   "cell_type": "code",
   "execution_count": 7,
   "metadata": {},
   "outputs": [
    {
     "data": {
      "text/plain": [
       "(440, 4)"
      ]
     },
     "execution_count": 7,
     "metadata": {},
     "output_type": "execute_result"
    }
   ],
   "source": [
    "y_train.shape"
   ]
  },
  {
   "cell_type": "code",
   "execution_count": 8,
   "metadata": {},
   "outputs": [
    {
     "data": {
      "text/plain": [
       "array([0., 0., 0., 1.], dtype=float32)"
      ]
     },
     "execution_count": 8,
     "metadata": {},
     "output_type": "execute_result"
    },
    {
     "data": {
      "image/png": "[encoded data removed]",
      "text/plain": [
       "<Figure size 432x288 with 1 Axes>"
      ]
     },
     "metadata": {
      "needs_background": "light"
     },
     "output_type": "display_data"
    }
   ],
   "source": [
    "plt.imshow(x_train[2])\n",
    "y_train[2]"
   ]
  },
  {
   "cell_type": "code",
   "execution_count": 9,
   "metadata": {},
   "outputs": [],
   "source": [
    "def make_test_data(test_path):\n",
    "    \n",
    "    x_test = []\n",
    "    y_test = []\n",
    "    \n",
    "    img_list = os.listdir(test_path)\n",
    "    \n",
    "    for img_name in img_list:\n",
    "        img = cv2.imread(test_path + '/' + img_name, 0)\n",
    "        img = cv2.resize(img, (32, 32))        \n",
    "        x_test.append(img)\n",
    "        y_test.append(int(img_name[-5] ) - 1)\n",
    "        \n",
    "    x_test = np.reshape(x_test, (np.shape(x_test)[0],np.shape(x_test)[1],np.shape(x_test)[2], 1))\n",
    "    \n",
    "    y_test = tf.keras.utils.to_categorical(y_test, num_classes= 4)\n",
    "\n",
    "        \n",
    "    return np.array(x_test)/255.0, np.array(y_test)\n",
    "    "
   ]
  },
  {
   "cell_type": "code",
   "execution_count": 10,
   "metadata": {},
   "outputs": [],
   "source": [
    "x_test, y_test = make_test_data(test_path)"
   ]
  },
  {
   "cell_type": "code",
   "execution_count": 11,
   "metadata": {},
   "outputs": [
    {
     "data": {
      "text/plain": [
       "array([0., 0., 0., 1.], dtype=float32)"
      ]
     },
     "execution_count": 11,
     "metadata": {},
     "output_type": "execute_result"
    },
    {
     "data": {
      "image/png": "[encoded data removed]",
      "text/plain": [
       "<Figure size 432x288 with 1 Axes>"
      ]
     },
     "metadata": {
      "needs_background": "light"
     },
     "output_type": "display_data"
    }
   ],
   "source": [
    "plt.imshow(x_test[0])\n",
    "y_test[0]"
   ]
  },
  {
   "cell_type": "code",
   "execution_count": 12,
   "metadata": {},
   "outputs": [
    {
     "name": "stdout",
     "output_type": "stream",
     "text": [
      "x_train shape - (440, 32, 32, 1) x_test shape - (30, 32, 32, 1) y_train shape - (440, 4) y_test shape - (30, 4)\n"
     ]
    }
   ],
   "source": [
    "print(f'x_train shape - {x_train.shape} x_test shape - {x_test.shape} y_train shape - {y_train.shape} y_test shape - {y_test.shape}')"
   ]
  },
  {
   "cell_type": "code",
   "execution_count": 13,
   "metadata": {},
   "outputs": [],
   "source": [
    "def Probit_regression():\n",
    "    layer1 = tf.keras.layers.Flatten(input_shape = (32, 32,1))\n",
    "    layer2 = tf.keras.layers.Dense(units = 4, activation = tfp.bijectors.NormalCDF())\n",
    "    model = tf.keras.models.Sequential([layer1, layer2])\n",
    "    model.compile(optimizer = 'adam', loss = 'categorical_crossentropy', metrics  = ['accuracy'] )\n",
    "    return model\n",
    "\n",
    "model  = Probit_regression()"
   ]
  },
  {
   "cell_type": "code",
   "execution_count": 14,
   "metadata": {},
   "outputs": [],
   "source": [
    "# model.fit(x_train, y_train, epochs  = 50, validation_data = (x_test, y_test), callbacks = tf.keras.callbacks.EarlyStopping(monitor = 'val_accuracy', patience = 5, restore_best_weights =1))"
   ]
  },
  {
   "cell_type": "markdown",
   "metadata": {},
   "source": [
    "## CrossValidation Implementation"
   ]
  },
  {
   "cell_type": "code",
   "execution_count": 15,
   "metadata": {},
   "outputs": [
    {
     "name": "stdout",
     "output_type": "stream",
     "text": [
      "Epoch 1/50\n",
      "11/11 [==============================] - 1s 14ms/step - loss: 1.4363 - accuracy: 0.3409 - val_loss: 1.3505 - val_accuracy: 0.3295\n",
      "Epoch 2/50\n",
      "11/11 [==============================] - 0s 4ms/step - loss: 1.2577 - accuracy: 0.3835 - val_loss: 1.1909 - val_accuracy: 0.3182\n",
      "Epoch 3/50\n",
      "11/11 [==============================] - 0s 4ms/step - loss: 1.1320 - accuracy: 0.4148 - val_loss: 1.1334 - val_accuracy: 0.5341\n",
      "Epoch 4/50\n",
      "11/11 [==============================] - 0s 5ms/step - loss: 0.8800 - accuracy: 0.6193 - val_loss: 0.8816 - val_accuracy: 0.6818\n",
      "Epoch 5/50\n",
      "11/11 [==============================] - 0s 4ms/step - loss: 0.7748 - accuracy: 0.7074 - val_loss: 1.1512 - val_accuracy: 0.5909\n",
      "Epoch 6/50\n",
      "11/11 [==============================] - 0s 5ms/step - loss: 0.7154 - accuracy: 0.7415 - val_loss: 0.8343 - val_accuracy: 0.6705\n",
      "Epoch 7/50\n",
      "11/11 [==============================] - 0s 4ms/step - loss: 0.5927 - accuracy: 0.8068 - val_loss: 0.7792 - val_accuracy: 0.7273\n",
      "Epoch 8/50\n",
      "11/11 [==============================] - 0s 5ms/step - loss: 0.5017 - accuracy: 0.8267 - val_loss: 0.8020 - val_accuracy: 0.7159\n",
      "Epoch 9/50\n",
      "11/11 [==============================] - 0s 5ms/step - loss: 0.4318 - accuracy: 0.8523 - val_loss: 0.8538 - val_accuracy: 0.7159\n",
      "Epoch 10/50\n",
      "11/11 [==============================] - 0s 4ms/step - loss: 0.3531 - accuracy: 0.8750 - val_loss: 0.8562 - val_accuracy: 0.7159\n",
      "Epoch 11/50\n",
      "11/11 [==============================] - 0s 5ms/step - loss: 0.3635 - accuracy: 0.8864 - val_loss: 0.8895 - val_accuracy: 0.7045\n",
      "Epoch 12/50\n",
      "11/11 [==============================] - 0s 5ms/step - loss: 0.2780 - accuracy: 0.8807 - val_loss: 0.9652 - val_accuracy: 0.7386\n",
      "Epoch 13/50\n",
      "11/11 [==============================] - 0s 4ms/step - loss: 0.2953 - accuracy: 0.9034 - val_loss: 1.1064 - val_accuracy: 0.6705\n",
      "Epoch 14/50\n",
      "11/11 [==============================] - 0s 4ms/step - loss: 0.2300 - accuracy: 0.9318 - val_loss: 1.2096 - val_accuracy: 0.6591\n",
      "Epoch 15/50\n",
      "11/11 [==============================] - 0s 4ms/step - loss: 0.2001 - accuracy: 0.9290 - val_loss: 1.1303 - val_accuracy: 0.6932\n",
      "Epoch 16/50\n",
      "11/11 [==============================] - 0s 5ms/step - loss: 0.1657 - accuracy: 0.9375 - val_loss: 1.1868 - val_accuracy: 0.7045\n",
      "Epoch 17/50\n",
      "11/11 [==============================] - 0s 5ms/step - loss: 0.2280 - accuracy: 0.9205 - val_loss: 1.4041 - val_accuracy: 0.7159\n",
      "Epoch 1/50\n",
      "11/11 [==============================] - 0s 6ms/step - loss: 0.4500 - accuracy: 0.8636 - val_loss: 0.2164 - val_accuracy: 0.9545\n",
      "Epoch 2/50\n",
      "11/11 [==============================] - 0s 4ms/step - loss: 0.3562 - accuracy: 0.8778 - val_loss: 0.4029 - val_accuracy: 0.8636\n",
      "Epoch 3/50\n",
      "11/11 [==============================] - 0s 3ms/step - loss: 0.3497 - accuracy: 0.8778 - val_loss: 0.3506 - val_accuracy: 0.9091\n",
      "Epoch 4/50\n",
      "11/11 [==============================] - 0s 4ms/step - loss: 0.3007 - accuracy: 0.8977 - val_loss: 0.3236 - val_accuracy: 0.8864\n",
      "Epoch 5/50\n",
      "11/11 [==============================] - 0s 4ms/step - loss: 0.2516 - accuracy: 0.9148 - val_loss: 0.2904 - val_accuracy: 0.8977\n",
      "Epoch 6/50\n",
      "11/11 [==============================] - 0s 4ms/step - loss: 0.2504 - accuracy: 0.9176 - val_loss: 0.2823 - val_accuracy: 0.8523\n",
      "Epoch 1/50\n",
      "11/11 [==============================] - 0s 7ms/step - loss: 0.4338 - accuracy: 0.8352 - val_loss: 0.1711 - val_accuracy: 0.9545\n",
      "Epoch 2/50\n",
      "11/11 [==============================] - 0s 4ms/step - loss: 0.3374 - accuracy: 0.8722 - val_loss: 0.1932 - val_accuracy: 0.9545\n",
      "Epoch 3/50\n",
      "11/11 [==============================] - 0s 3ms/step - loss: 0.3370 - accuracy: 0.8722 - val_loss: 0.2571 - val_accuracy: 0.9318\n",
      "Epoch 4/50\n",
      "11/11 [==============================] - 0s 4ms/step - loss: 0.3406 - accuracy: 0.8722 - val_loss: 0.2820 - val_accuracy: 0.9091\n",
      "Epoch 5/50\n",
      "11/11 [==============================] - 0s 4ms/step - loss: 0.3070 - accuracy: 0.8807 - val_loss: 0.2117 - val_accuracy: 0.9432\n",
      "Epoch 6/50\n",
      "11/11 [==============================] - 0s 4ms/step - loss: 0.3035 - accuracy: 0.8892 - val_loss: 0.2206 - val_accuracy: 0.9205\n",
      "Epoch 1/50\n",
      "11/11 [==============================] - 0s 6ms/step - loss: 0.3463 - accuracy: 0.8977 - val_loss: 0.2188 - val_accuracy: 0.9205\n",
      "Epoch 2/50\n",
      "11/11 [==============================] - 0s 4ms/step - loss: 0.3169 - accuracy: 0.8920 - val_loss: 0.2154 - val_accuracy: 0.9205\n",
      "Epoch 3/50\n",
      "11/11 [==============================] - 0s 3ms/step - loss: 0.3006 - accuracy: 0.8977 - val_loss: 0.2330 - val_accuracy: 0.8864\n",
      "Epoch 4/50\n",
      "11/11 [==============================] - 0s 4ms/step - loss: 0.2499 - accuracy: 0.9148 - val_loss: 0.2150 - val_accuracy: 0.8864\n",
      "Epoch 5/50\n",
      "11/11 [==============================] - 0s 5ms/step - loss: 0.2053 - accuracy: 0.9347 - val_loss: 0.2854 - val_accuracy: 0.8750\n",
      "Epoch 6/50\n",
      "11/11 [==============================] - 0s 5ms/step - loss: 0.2093 - accuracy: 0.9318 - val_loss: 0.2365 - val_accuracy: 0.8750\n",
      "Epoch 1/50\n",
      "11/11 [==============================] - 0s 8ms/step - loss: 0.3303 - accuracy: 0.8892 - val_loss: 0.2526 - val_accuracy: 0.9205\n",
      "Epoch 2/50\n",
      "11/11 [==============================] - 0s 5ms/step - loss: 0.2856 - accuracy: 0.8977 - val_loss: 0.3088 - val_accuracy: 0.8977\n",
      "Epoch 3/50\n",
      "11/11 [==============================] - 0s 5ms/step - loss: 0.2662 - accuracy: 0.9006 - val_loss: 0.3351 - val_accuracy: 0.8864\n",
      "Epoch 4/50\n",
      "11/11 [==============================] - 0s 5ms/step - loss: 0.2127 - accuracy: 0.9176 - val_loss: 0.3133 - val_accuracy: 0.8864\n",
      "Epoch 5/50\n",
      "11/11 [==============================] - 0s 4ms/step - loss: 0.1727 - accuracy: 0.9403 - val_loss: 0.2721 - val_accuracy: 0.9318\n",
      "Epoch 6/50\n",
      "11/11 [==============================] - 0s 5ms/step - loss: 0.1433 - accuracy: 0.9545 - val_loss: 0.2503 - val_accuracy: 0.9318\n",
      "Epoch 7/50\n",
      "11/11 [==============================] - 0s 5ms/step - loss: 0.1249 - accuracy: 0.9631 - val_loss: 0.2842 - val_accuracy: 0.9091\n",
      "Epoch 8/50\n",
      "11/11 [==============================] - 0s 5ms/step - loss: 0.1080 - accuracy: 0.9659 - val_loss: 0.2746 - val_accuracy: 0.8864\n",
      "Epoch 9/50\n",
      "11/11 [==============================] - 0s 5ms/step - loss: 0.0860 - accuracy: 0.9716 - val_loss: 0.2492 - val_accuracy: 0.9091\n",
      "Epoch 10/50\n",
      "11/11 [==============================] - 0s 5ms/step - loss: 0.0744 - accuracy: 0.9773 - val_loss: 0.2485 - val_accuracy: 0.8977\n"
     ]
    }
   ],
   "source": [
    "from sklearn.model_selection import KFold\n",
    "kfolds = KFold(n_splits = 5, shuffle = True)\n",
    "\n",
    "for train_index, test_index in kfolds.split(x_train):\n",
    "    X_train = x_train[train_index]\n",
    "    Y_train = y_train[train_index]\n",
    "    X_test = x_train[test_index]\n",
    "    Y_test = y_train[test_index]\n",
    "    model.fit(X_train, Y_train, epochs  = 50, validation_data = (X_test, Y_test), callbacks = tf.keras.callbacks.EarlyStopping(monitor = 'val_accuracy', patience = 5, restore_best_weights =1))\n",
    "    "
   ]
  },
  {
   "cell_type": "code",
   "execution_count": 16,
   "metadata": {},
   "outputs": [
    {
     "name": "stdout",
     "output_type": "stream",
     "text": [
      "1/1 [==============================] - 0s 26ms/step - loss: 0.2607 - accuracy: 0.9333\n"
     ]
    },
    {
     "data": {
      "text/plain": [
       "[0.2606911063194275, 0.9333333373069763]"
      ]
     },
     "execution_count": 16,
     "metadata": {},
     "output_type": "execute_result"
    }
   ],
   "source": [
    "model.evaluate(x_test, y_test)"
   ]
  },
  {
   "cell_type": "code",
   "execution_count": null,
   "metadata": {},
   "outputs": [],
   "source": []
  },
  {
   "cell_type": "code",
   "execution_count": null,
   "metadata": {},
   "outputs": [],
   "source": []
  }
 ],
 "metadata": {
  "kernelspec": {
   "display_name": "Python 3 (ipykernel)",
   "language": "python",
   "name": "python3"
  },
  "language_info": {
   "codemirror_mode": {
    "name": "ipython",
    "version": 3
   },
   "file_extension": ".py",
   "mimetype": "text/x-python",
   "name": "python",
   "nbconvert_exporter": "python",
   "pygments_lexer": "ipython3",
   "version": "3.8.10"
  }
 },
 "nbformat": 4,
 "nbformat_minor": 4
}
